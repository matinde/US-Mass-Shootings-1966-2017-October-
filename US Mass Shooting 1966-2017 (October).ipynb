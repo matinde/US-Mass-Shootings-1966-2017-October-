{
 "cells": [
  {
   "cell_type": "code",
   "execution_count": 25,
   "metadata": {
    "collapsed": true
   },
   "outputs": [],
   "source": [
    "import pandas as pd\n",
    "from bokeh.plotting import figure\n",
    "import matplotlib.pyplot as plt\n",
    "%matplotlib inline"
   ]
  },
  {
   "cell_type": "code",
   "execution_count": 2,
   "metadata": {
    "collapsed": true
   },
   "outputs": [],
   "source": [
    "mass_shooting = pd.read_csv('Mass Shootings Dataset.csv')"
   ]
  },
  {
   "cell_type": "code",
   "execution_count": 3,
   "metadata": {
    "collapsed": false
   },
   "outputs": [
    {
     "data": {
      "text/html": [
       "<div>\n",
       "<table border=\"1\" class=\"dataframe\">\n",
       "  <thead>\n",
       "    <tr style=\"text-align: right;\">\n",
       "      <th></th>\n",
       "      <th>S#</th>\n",
       "      <th>Title</th>\n",
       "      <th>Location</th>\n",
       "      <th>Date</th>\n",
       "      <th>Summary</th>\n",
       "      <th>Fatalities</th>\n",
       "      <th>Injured</th>\n",
       "      <th>Total victims</th>\n",
       "      <th>Mental Health Issues</th>\n",
       "      <th>Race</th>\n",
       "      <th>Gender</th>\n",
       "      <th>Latitude</th>\n",
       "      <th>Longitude</th>\n",
       "    </tr>\n",
       "  </thead>\n",
       "  <tbody>\n",
       "    <tr>\n",
       "      <th>0</th>\n",
       "      <td>1</td>\n",
       "      <td>Las Vegas Strip mass shooting</td>\n",
       "      <td>Las Vegas, NV</td>\n",
       "      <td>10/1/2017</td>\n",
       "      <td>NaN</td>\n",
       "      <td>58</td>\n",
       "      <td>515</td>\n",
       "      <td>573</td>\n",
       "      <td>Unclear</td>\n",
       "      <td>NaN</td>\n",
       "      <td>NaN</td>\n",
       "      <td>NaN</td>\n",
       "      <td>NaN</td>\n",
       "    </tr>\n",
       "    <tr>\n",
       "      <th>1</th>\n",
       "      <td>2</td>\n",
       "      <td>San Francisco UPS shooting</td>\n",
       "      <td>San Francisco, CA</td>\n",
       "      <td>6/14/2017</td>\n",
       "      <td>Jimmy Lam, 38, fatally shot three coworkers an...</td>\n",
       "      <td>3</td>\n",
       "      <td>2</td>\n",
       "      <td>5</td>\n",
       "      <td>Yes</td>\n",
       "      <td>Asian</td>\n",
       "      <td>M</td>\n",
       "      <td>NaN</td>\n",
       "      <td>NaN</td>\n",
       "    </tr>\n",
       "    <tr>\n",
       "      <th>2</th>\n",
       "      <td>3</td>\n",
       "      <td>Pennsylvania supermarket shooting</td>\n",
       "      <td>Tunkhannock, PA</td>\n",
       "      <td>6/7/2017</td>\n",
       "      <td>Randy Stair, a 24-year-old worker at Weis groc...</td>\n",
       "      <td>3</td>\n",
       "      <td>0</td>\n",
       "      <td>3</td>\n",
       "      <td>Unclear</td>\n",
       "      <td>White</td>\n",
       "      <td>M</td>\n",
       "      <td>NaN</td>\n",
       "      <td>NaN</td>\n",
       "    </tr>\n",
       "    <tr>\n",
       "      <th>3</th>\n",
       "      <td>4</td>\n",
       "      <td>Florida awning manufacturer shooting</td>\n",
       "      <td>Orlando, Florida</td>\n",
       "      <td>6/5/2017</td>\n",
       "      <td>John Robert Neumann, Jr., 45, a former employe...</td>\n",
       "      <td>5</td>\n",
       "      <td>0</td>\n",
       "      <td>5</td>\n",
       "      <td>Unclear</td>\n",
       "      <td>NaN</td>\n",
       "      <td>M</td>\n",
       "      <td>NaN</td>\n",
       "      <td>NaN</td>\n",
       "    </tr>\n",
       "    <tr>\n",
       "      <th>4</th>\n",
       "      <td>5</td>\n",
       "      <td>Rural Ohio nursing home shooting</td>\n",
       "      <td>Kirkersville, Ohio</td>\n",
       "      <td>5/12/2017</td>\n",
       "      <td>Thomas Hartless, 43, shot and killed a former ...</td>\n",
       "      <td>3</td>\n",
       "      <td>0</td>\n",
       "      <td>3</td>\n",
       "      <td>Yes</td>\n",
       "      <td>White</td>\n",
       "      <td>M</td>\n",
       "      <td>NaN</td>\n",
       "      <td>NaN</td>\n",
       "    </tr>\n",
       "  </tbody>\n",
       "</table>\n",
       "</div>"
      ],
      "text/plain": [
       "   S#                                 Title            Location       Date  \\\n",
       "0   1         Las Vegas Strip mass shooting       Las Vegas, NV  10/1/2017   \n",
       "1   2            San Francisco UPS shooting   San Francisco, CA  6/14/2017   \n",
       "2   3     Pennsylvania supermarket shooting     Tunkhannock, PA   6/7/2017   \n",
       "3   4  Florida awning manufacturer shooting    Orlando, Florida   6/5/2017   \n",
       "4   5      Rural Ohio nursing home shooting  Kirkersville, Ohio  5/12/2017   \n",
       "\n",
       "                                             Summary  Fatalities  Injured  \\\n",
       "0                                                NaN          58      515   \n",
       "1  Jimmy Lam, 38, fatally shot three coworkers an...           3        2   \n",
       "2  Randy Stair, a 24-year-old worker at Weis groc...           3        0   \n",
       "3  John Robert Neumann, Jr., 45, a former employe...           5        0   \n",
       "4  Thomas Hartless, 43, shot and killed a former ...           3        0   \n",
       "\n",
       "   Total victims Mental Health Issues   Race Gender  Latitude  Longitude  \n",
       "0            573              Unclear    NaN    NaN       NaN        NaN  \n",
       "1              5                  Yes  Asian      M       NaN        NaN  \n",
       "2              3              Unclear  White      M       NaN        NaN  \n",
       "3              5              Unclear    NaN      M       NaN        NaN  \n",
       "4              3                  Yes  White      M       NaN        NaN  "
      ]
     },
     "execution_count": 3,
     "metadata": {},
     "output_type": "execute_result"
    }
   ],
   "source": [
    "mass_shooting.head()"
   ]
  },
  {
   "cell_type": "code",
   "execution_count": 5,
   "metadata": {
    "collapsed": false
   },
   "outputs": [],
   "source": [
    "# I do not need the longitude and latitude. In this project I will not be mapping\n",
    "\n",
    "del mass_shooting['Latitude']"
   ]
  },
  {
   "cell_type": "code",
   "execution_count": 6,
   "metadata": {
    "collapsed": true
   },
   "outputs": [],
   "source": [
    "del mass_shooting['Longitude']"
   ]
  },
  {
   "cell_type": "code",
   "execution_count": 7,
   "metadata": {
    "collapsed": false
   },
   "outputs": [
    {
     "data": {
      "text/html": [
       "<div>\n",
       "<table border=\"1\" class=\"dataframe\">\n",
       "  <thead>\n",
       "    <tr style=\"text-align: right;\">\n",
       "      <th></th>\n",
       "      <th>S#</th>\n",
       "      <th>Title</th>\n",
       "      <th>Location</th>\n",
       "      <th>Date</th>\n",
       "      <th>Summary</th>\n",
       "      <th>Fatalities</th>\n",
       "      <th>Injured</th>\n",
       "      <th>Total victims</th>\n",
       "      <th>Mental Health Issues</th>\n",
       "      <th>Race</th>\n",
       "      <th>Gender</th>\n",
       "    </tr>\n",
       "  </thead>\n",
       "  <tbody>\n",
       "    <tr>\n",
       "      <th>393</th>\n",
       "      <td>394</td>\n",
       "      <td>Clara Barton Elementary School</td>\n",
       "      <td>Chicago, Illinois</td>\n",
       "      <td>1/17/1974</td>\n",
       "      <td>On January 17, 1974, a 14-year-old student ent...</td>\n",
       "      <td>1</td>\n",
       "      <td>3</td>\n",
       "      <td>4</td>\n",
       "      <td>Yes</td>\n",
       "      <td>Unknown</td>\n",
       "      <td>Male</td>\n",
       "    </tr>\n",
       "    <tr>\n",
       "      <th>394</th>\n",
       "      <td>395</td>\n",
       "      <td>New Orleans Police Shootings</td>\n",
       "      <td>New Orleans, Louisiana</td>\n",
       "      <td>12/31/1972</td>\n",
       "      <td>On New Year's Eve in 1972, a 23-year-old ex-Na...</td>\n",
       "      <td>10</td>\n",
       "      <td>13</td>\n",
       "      <td>22</td>\n",
       "      <td>Yes</td>\n",
       "      <td>Black American or African American</td>\n",
       "      <td>Male</td>\n",
       "    </tr>\n",
       "    <tr>\n",
       "      <th>395</th>\n",
       "      <td>396</td>\n",
       "      <td>St. Aloysius Church</td>\n",
       "      <td>Spokane, Washington</td>\n",
       "      <td>11/11/1971</td>\n",
       "      <td>On November 11, 1971, a former MIT student ent...</td>\n",
       "      <td>2</td>\n",
       "      <td>4</td>\n",
       "      <td>5</td>\n",
       "      <td>Yes</td>\n",
       "      <td>White American or European American</td>\n",
       "      <td>Male</td>\n",
       "    </tr>\n",
       "    <tr>\n",
       "      <th>396</th>\n",
       "      <td>397</td>\n",
       "      <td>Rose-Mar College of Beauty</td>\n",
       "      <td>Mesa, Arizona</td>\n",
       "      <td>11/12/1966</td>\n",
       "      <td>On November 12, 1966, an 18-year-old high scho...</td>\n",
       "      <td>5</td>\n",
       "      <td>1</td>\n",
       "      <td>6</td>\n",
       "      <td>Yes</td>\n",
       "      <td>White American or European American</td>\n",
       "      <td>Male</td>\n",
       "    </tr>\n",
       "    <tr>\n",
       "      <th>397</th>\n",
       "      <td>398</td>\n",
       "      <td>University of Texas at Austin</td>\n",
       "      <td>Austin, Texas</td>\n",
       "      <td>8/1/1966</td>\n",
       "      <td>On August 1, 1966, a 25-year-old engineering s...</td>\n",
       "      <td>17</td>\n",
       "      <td>32</td>\n",
       "      <td>48</td>\n",
       "      <td>Yes</td>\n",
       "      <td>White American or European American</td>\n",
       "      <td>Male</td>\n",
       "    </tr>\n",
       "  </tbody>\n",
       "</table>\n",
       "</div>"
      ],
      "text/plain": [
       "      S#                           Title                Location        Date  \\\n",
       "393  394  Clara Barton Elementary School       Chicago, Illinois   1/17/1974   \n",
       "394  395    New Orleans Police Shootings  New Orleans, Louisiana  12/31/1972   \n",
       "395  396             St. Aloysius Church     Spokane, Washington  11/11/1971   \n",
       "396  397      Rose-Mar College of Beauty           Mesa, Arizona  11/12/1966   \n",
       "397  398   University of Texas at Austin           Austin, Texas    8/1/1966   \n",
       "\n",
       "                                               Summary  Fatalities  Injured  \\\n",
       "393  On January 17, 1974, a 14-year-old student ent...           1        3   \n",
       "394  On New Year's Eve in 1972, a 23-year-old ex-Na...          10       13   \n",
       "395  On November 11, 1971, a former MIT student ent...           2        4   \n",
       "396  On November 12, 1966, an 18-year-old high scho...           5        1   \n",
       "397  On August 1, 1966, a 25-year-old engineering s...          17       32   \n",
       "\n",
       "     Total victims Mental Health Issues                                 Race  \\\n",
       "393              4                  Yes                              Unknown   \n",
       "394             22                  Yes   Black American or African American   \n",
       "395              5                  Yes  White American or European American   \n",
       "396              6                  Yes  White American or European American   \n",
       "397             48                  Yes  White American or European American   \n",
       "\n",
       "    Gender  \n",
       "393   Male  \n",
       "394   Male  \n",
       "395   Male  \n",
       "396   Male  \n",
       "397   Male  "
      ]
     },
     "execution_count": 7,
     "metadata": {},
     "output_type": "execute_result"
    }
   ],
   "source": [
    "# Let us look at the new DataFrame\n",
    "\n",
    "mass_shooting.tail()"
   ]
  },
  {
   "cell_type": "code",
   "execution_count": 102,
   "metadata": {
    "collapsed": false
   },
   "outputs": [],
   "source": [
    "# We need to remove the duplicates from our dataframe if any\n",
    "\n",
    "mass_shooting.drop_duplicates(subset=['Location', 'Date'], inplace=True)"
   ]
  },
  {
   "cell_type": "code",
   "execution_count": 103,
   "metadata": {
    "collapsed": false
   },
   "outputs": [
    {
     "name": "stdout",
     "output_type": "stream",
     "text": [
      "<class 'pandas.core.frame.DataFrame'>\n",
      "Int64Index: 318 entries, 0 to 397\n",
      "Data columns (total 11 columns):\n",
      "S#                      318 non-null int64\n",
      "Title                   318 non-null object\n",
      "Location                318 non-null object\n",
      "Date                    318 non-null object\n",
      "Summary                 317 non-null object\n",
      "Fatalities              318 non-null int64\n",
      "Injured                 318 non-null int64\n",
      "Total victims           318 non-null int64\n",
      "Mental Health Issues    318 non-null object\n",
      "Race                    315 non-null object\n",
      "Gender                  317 non-null object\n",
      "dtypes: int64(4), object(7)\n",
      "memory usage: 29.8+ KB\n"
     ]
    }
   ],
   "source": [
    "# Now lets look at our DataFrame\n",
    "\n",
    "mass_shooting.info()"
   ]
  },
  {
   "cell_type": "code",
   "execution_count": 108,
   "metadata": {
    "collapsed": false
   },
   "outputs": [],
   "source": [
    "# Now we can plot the top 10 dangerous shootings in America\n",
    "\n",
    "top_ten = mass_shooting[['Location', 'Fatalities']].sort_values('Fatalities', ascending=False).set_index('Location').head(10)"
   ]
  },
  {
   "cell_type": "code",
   "execution_count": 110,
   "metadata": {
    "collapsed": false
   },
   "outputs": [
    {
     "data": {
      "text/plain": [
       "<matplotlib.axes._subplots.AxesSubplot at 0x14c0cb70>"
      ]
     },
     "execution_count": 110,
     "metadata": {},
     "output_type": "execute_result"
    },
    {
     "data": {
      "image/png": "[encoded data removed]",
      "text/plain": [
       "<matplotlib.figure.Figure at 0x14c034e0>"
      ]
     },
     "metadata": {},
     "output_type": "display_data"
    }
   ],
   "source": [
    "top_ten.plot.bar(color='red', alpha=0.8)"
   ]
  },
  {
   "cell_type": "code",
   "execution_count": 111,
   "metadata": {
    "collapsed": true
   },
   "outputs": [],
   "source": [
    "# Now to find out: Are blacks or whites more responsible for gun shootings in America?\n",
    "\n",
    "blacks = mass_shooting['Race'].str.contains('Black').sum()"
   ]
  },
  {
   "cell_type": "code",
   "execution_count": 112,
   "metadata": {
    "collapsed": false
   },
   "outputs": [
    {
     "data": {
      "text/plain": [
       "75"
      ]
     },
     "execution_count": 112,
     "metadata": {},
     "output_type": "execute_result"
    }
   ],
   "source": [
    "blacks"
   ]
  },
  {
   "cell_type": "code",
   "execution_count": 113,
   "metadata": {
    "collapsed": true
   },
   "outputs": [],
   "source": [
    "whites = mass_shooting['Race'].str.contains('White').sum()"
   ]
  },
  {
   "cell_type": "code",
   "execution_count": 114,
   "metadata": {
    "collapsed": false
   },
   "outputs": [
    {
     "data": {
      "text/plain": [
       "101"
      ]
     },
     "execution_count": 114,
     "metadata": {},
     "output_type": "execute_result"
    }
   ],
   "source": [
    "whites"
   ]
  },
  {
   "cell_type": "code",
   "execution_count": 117,
   "metadata": {
    "collapsed": true
   },
   "outputs": [],
   "source": [
    "unknown = mass_shooting['Race'].str.contains('Unknown').sum()"
   ]
  },
  {
   "cell_type": "code",
   "execution_count": 118,
   "metadata": {
    "collapsed": false
   },
   "outputs": [
    {
     "data": {
      "text/plain": [
       "38"
      ]
     },
     "execution_count": 118,
     "metadata": {},
     "output_type": "execute_result"
    }
   ],
   "source": [
    "unknown"
   ]
  },
  {
   "cell_type": "code",
   "execution_count": 119,
   "metadata": {
    "collapsed": false
   },
   "outputs": [
    {
     "data": {
      "text/plain": [
       "214"
      ]
     },
     "execution_count": 119,
     "metadata": {},
     "output_type": "execute_result"
    }
   ],
   "source": [
    "whites + blacks + unknown"
   ]
  },
  {
   "cell_type": "code",
   "execution_count": 126,
   "metadata": {
    "collapsed": false
   },
   "outputs": [
    {
     "data": {
      "text/plain": [
       "296"
      ]
     },
     "execution_count": 126,
     "metadata": {},
     "output_type": "execute_result"
    }
   ],
   "source": [
    "# Male or female perpetrators?\n",
    "\n",
    "mass_shooting['Gender'].str.contains('M', 'Male').sum()"
   ]
  },
  {
   "cell_type": "code",
   "execution_count": 136,
   "metadata": {
    "collapsed": false
   },
   "outputs": [
    {
     "data": {
      "text/plain": [
       "8"
      ]
     },
     "execution_count": 136,
     "metadata": {},
     "output_type": "execute_result"
    }
   ],
   "source": [
    "mass_shooting['Gender'].str.contains('Female').sum()"
   ]
  },
  {
   "cell_type": "code",
   "execution_count": 144,
   "metadata": {
    "collapsed": false
   },
   "outputs": [],
   "source": [
    "# it is an overwhelming verdict agains the men who perpetrate mass shootings\n",
    "# Since the list is short, let us look at the women shooters\n",
    "\n",
    "female1 = mass_shooting[mass_shooting['Gender']=='Female']"
   ]
  },
  {
   "cell_type": "code",
   "execution_count": 145,
   "metadata": {
    "collapsed": false
   },
   "outputs": [
    {
     "data": {
      "text/html": [
       "<div>\n",
       "<table border=\"1\" class=\"dataframe\">\n",
       "  <thead>\n",
       "    <tr style=\"text-align: right;\">\n",
       "      <th></th>\n",
       "      <th>S#</th>\n",
       "      <th>Title</th>\n",
       "      <th>Location</th>\n",
       "      <th>Date</th>\n",
       "      <th>Summary</th>\n",
       "      <th>Fatalities</th>\n",
       "      <th>Injured</th>\n",
       "      <th>Total victims</th>\n",
       "      <th>Mental Health Issues</th>\n",
       "      <th>Race</th>\n",
       "      <th>Gender</th>\n",
       "    </tr>\n",
       "  </thead>\n",
       "  <tbody>\n",
       "    <tr>\n",
       "      <th>170</th>\n",
       "      <td>171</td>\n",
       "      <td>Alturas tribal shooting</td>\n",
       "      <td>Alturas, California</td>\n",
       "      <td>2/20/2014</td>\n",
       "      <td>Cherie Lash Rhoades, 44, opened fire at the Ce...</td>\n",
       "      <td>4</td>\n",
       "      <td>2</td>\n",
       "      <td>6</td>\n",
       "      <td>Unknown</td>\n",
       "      <td>Native American</td>\n",
       "      <td>Female</td>\n",
       "    </tr>\n",
       "    <tr>\n",
       "      <th>225</th>\n",
       "      <td>226</td>\n",
       "      <td>University of Alabama in Huntsville</td>\n",
       "      <td>Huntsville, Alabama</td>\n",
       "      <td>2/12/2010</td>\n",
       "      <td>On February 12, 2010, a 44-year old professor ...</td>\n",
       "      <td>0</td>\n",
       "      <td>3</td>\n",
       "      <td>6</td>\n",
       "      <td>No</td>\n",
       "      <td>White American or European American</td>\n",
       "      <td>Female</td>\n",
       "    </tr>\n",
       "    <tr>\n",
       "      <th>266</th>\n",
       "      <td>267</td>\n",
       "      <td>Goleta postal shootings</td>\n",
       "      <td>Goleta, California</td>\n",
       "      <td>1/30/2006</td>\n",
       "      <td>Former postal worker Jennifer Sanmarco, 44, sh...</td>\n",
       "      <td>8</td>\n",
       "      <td>0</td>\n",
       "      <td>8</td>\n",
       "      <td>Yes</td>\n",
       "      <td>white</td>\n",
       "      <td>Female</td>\n",
       "    </tr>\n",
       "    <tr>\n",
       "      <th>366</th>\n",
       "      <td>367</td>\n",
       "      <td>Hubbard Woods Elementary School</td>\n",
       "      <td>Winnetka, Illinois</td>\n",
       "      <td>5/20/1988</td>\n",
       "      <td>On May 20, 1988, a 30-year-old woman entered t...</td>\n",
       "      <td>2</td>\n",
       "      <td>7</td>\n",
       "      <td>8</td>\n",
       "      <td>Yes</td>\n",
       "      <td>White American or European American</td>\n",
       "      <td>Female</td>\n",
       "    </tr>\n",
       "    <tr>\n",
       "      <th>389</th>\n",
       "      <td>390</td>\n",
       "      <td>Grover Cleveland Elementary School</td>\n",
       "      <td>San Diego, California</td>\n",
       "      <td>1/29/1979</td>\n",
       "      <td>On January 29, 1979, a 16-year-old opened fire...</td>\n",
       "      <td>2</td>\n",
       "      <td>9</td>\n",
       "      <td>11</td>\n",
       "      <td>Yes</td>\n",
       "      <td>White American or European American</td>\n",
       "      <td>Female</td>\n",
       "    </tr>\n",
       "  </tbody>\n",
       "</table>\n",
       "</div>"
      ],
      "text/plain": [
       "      S#                                Title               Location  \\\n",
       "170  171              Alturas tribal shooting    Alturas, California   \n",
       "225  226  University of Alabama in Huntsville    Huntsville, Alabama   \n",
       "266  267              Goleta postal shootings     Goleta, California   \n",
       "366  367      Hubbard Woods Elementary School     Winnetka, Illinois   \n",
       "389  390   Grover Cleveland Elementary School  San Diego, California   \n",
       "\n",
       "          Date                                            Summary  Fatalities  \\\n",
       "170  2/20/2014  Cherie Lash Rhoades, 44, opened fire at the Ce...           4   \n",
       "225  2/12/2010  On February 12, 2010, a 44-year old professor ...           0   \n",
       "266  1/30/2006  Former postal worker Jennifer Sanmarco, 44, sh...           8   \n",
       "366  5/20/1988  On May 20, 1988, a 30-year-old woman entered t...           2   \n",
       "389  1/29/1979  On January 29, 1979, a 16-year-old opened fire...           2   \n",
       "\n",
       "     Injured  Total victims Mental Health Issues  \\\n",
       "170        2              6              Unknown   \n",
       "225        3              6                   No   \n",
       "266        0              8                  Yes   \n",
       "366        7              8                  Yes   \n",
       "389        9             11                  Yes   \n",
       "\n",
       "                                    Race  Gender  \n",
       "170                      Native American  Female  \n",
       "225  White American or European American  Female  \n",
       "266                                white  Female  \n",
       "366  White American or European American  Female  \n",
       "389  White American or European American  Female  "
      ]
     },
     "execution_count": 145,
     "metadata": {},
     "output_type": "execute_result"
    }
   ],
   "source": [
    "female1"
   ]
  },
  {
   "cell_type": "code",
   "execution_count": null,
   "metadata": {
    "collapsed": true
   },
   "outputs": [],
   "source": []
  }
 ],
 "metadata": {
  "kernelspec": {
   "display_name": "Python 2",
   "language": "python",
   "name": "python2"
  },
  "language_info": {
   "codemirror_mode": {
    "name": "ipython",
    "version": 2
   },
   "file_extension": ".py",
   "mimetype": "text/x-python",
   "name": "python",
   "nbconvert_exporter": "python",
   "pygments_lexer": "ipython2",
   "version": "2.7.13"
  }
 },
 "nbformat": 4,
 "nbformat_minor": 0
}
